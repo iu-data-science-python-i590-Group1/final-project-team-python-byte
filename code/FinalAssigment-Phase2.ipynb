{
 "cells": [
  {
   "cell_type": "markdown",
   "metadata": {},
   "source": [
    "<b>Phase 2 Assignment</b><br></br>\n",
    "<i>KMeans algorithm </i><br>\n",
    "<b>Dataset: </b>breast cancer data from the phase 1<br>"
   ]
  },
  {
   "cell_type": "code",
   "execution_count": 3,
   "metadata": {},
   "outputs": [],
   "source": [
    "#import all required libraries\n",
    "\n",
    "%matplotlib inline\n",
    "import pandas as pd\n",
    "import matplotlib.pylab as plt\n",
    "import numpy as np\n",
    "from sklearn.datasets import make_blobs\n",
    "from sklearn.cluster import KMeans\n",
    "from sklearn.pipeline import make_pipeline\n",
    "from sklearn.preprocessing import StandardScaler"
   ]
  },
  {
   "cell_type": "markdown",
   "metadata": {},
   "source": [
    "<b>Load and print head of dataset</b>"
   ]
  },
  {
   "cell_type": "code",
   "execution_count": 42,
   "metadata": {},
   "outputs": [
    {
     "name": "stdout",
     "output_type": "stream",
     "text": [
      "        Scn  A2  A3  A4  A5  A6  A7  A8  A9  A10  CLASS\n",
      "20  1054590   7   3   2  10   5  10   5   4    4      4\n",
      "21  1054593  10   5   5   3   6   7   7  10    1      4\n",
      "22  1056784   3   1   1   1   2   1   2   1    1      2\n",
      "23  1057013   8   4   5   1   2   ?   7   3    1      4\n",
      "24  1059552   1   1   1   1   2   1   3   1    1      2\n",
      "25  1065726   5   2   3   4   2   7   3   6    1      4\n",
      "26  1066373   3   2   1   1   1   1   2   1    1      2\n",
      "27  1066979   5   1   1   1   2   1   2   1    1      2\n",
      "28  1067444   2   1   1   1   2   1   2   1    1      2\n",
      "29  1070935   1   1   3   1   2   1   1   1    1      2\n",
      "        Scn  A2  A3  A4  A5  A6         A7  A8  A9  A10  CLASS\n",
      "20  1054590   7   3   2  10   5  10.000000   5   4    4      4\n",
      "21  1054593  10   5   5   3   6   7.000000   7  10    1      4\n",
      "22  1056784   3   1   1   1   2   1.000000   2   1    1      2\n",
      "23  1057013   8   4   5   1   2   3.544656   7   3    1      4\n",
      "24  1059552   1   1   1   1   2   1.000000   3   1    1      2\n",
      "25  1065726   5   2   3   4   2   7.000000   3   6    1      4\n",
      "26  1066373   3   2   1   1   1   1.000000   2   1    1      2\n",
      "27  1066979   5   1   1   1   2   1.000000   2   1    1      2\n",
      "28  1067444   2   1   1   1   2   1.000000   2   1    1      2\n",
      "29  1070935   1   1   3   1   2   1.000000   1   1    1      2\n"
     ]
    }
   ],
   "source": [
    "df = pd.read_csv('../data/BreastCancerWisconsin.csv') \n",
    "print(df[20:30])\n",
    "df['A7'] = df['A7'].replace('?', np.NaN)\n",
    "df['A7'] = pd.to_numeric(df['A7'])\n",
    "df = df.fillna(df.mean(skipna=True))\n",
    "print(df[20:30])"
   ]
  },
  {
   "cell_type": "markdown",
   "metadata": {},
   "source": [
    "<b>Get only A2-A10 colums from Dataset</b>"
   ]
  },
  {
   "cell_type": "code",
   "execution_count": 43,
   "metadata": {},
   "outputs": [
    {
     "name": "stdout",
     "output_type": "stream",
     "text": [
      "   A2  A3  A4  A5  A6    A7  A8  A9  A10\n",
      "0   5   1   1   1   2   1.0   3   1    1\n",
      "1   5   4   4   5   7  10.0   3   2    1\n",
      "2   3   1   1   1   2   2.0   3   1    1\n",
      "3   6   8   8   1   3   4.0   3   7    1\n",
      "4   4   1   1   3   2   1.0   3   1    1\n",
      "5   8  10  10   8   7  10.0   9   7    1\n",
      "6   1   1   1   1   2  10.0   3   1    1\n",
      "7   2   1   2   1   2   1.0   3   1    1\n",
      "8   2   1   1   1   2   1.0   1   1    5\n",
      "9   4   2   1   1   2   1.0   2   1    1\n"
     ]
    }
   ],
   "source": [
    "df = df.iloc[:, 1:10]\n",
    "print(df.head(10))"
   ]
  },
  {
   "cell_type": "markdown",
   "metadata": {},
   "source": [
    "<b>Create KMeans model for n_cluster = 4<br>\n",
    "Fit model to the data<br>\n",
    "Calculate centroids<br>\n",
    "Print centroids - you should have a matrix with 4 row (4 clusters) and 9  columns (for each A column)<br></b>"
   ]
  },
  {
   "cell_type": "code",
   "execution_count": 44,
   "metadata": {},
   "outputs": [
    {
     "name": "stdout",
     "output_type": "stream",
     "text": [
      "[[2.94493392 1.24449339 1.36563877 1.29295154 2.03964758 1.3514006\n",
      "  2.06167401 1.20044053 1.07709251]\n",
      " [6.7625     8.3875     8.425      7.75       6.775      9.2125\n",
      "  7.375      7.7375     3.7875    ]\n",
      " [7.46478873 7.02816901 6.67605634 4.1971831  5.53521127 3.45322005\n",
      "  5.38028169 6.81690141 2.30985915]\n",
      " [7.23404255 4.85106383 5.04255319 4.86170213 4.11702128 9.38297872\n",
      "  5.26595745 3.78723404 1.64893617]]\n"
     ]
    }
   ],
   "source": [
    "model = KMeans(n_clusters=4)\n",
    "# fit kmeans object to data df\n",
    "model.fit(df)\n",
    "labels = model.predict(df)\n",
    "centroids = model.cluster_centers_\n",
    "print(centroids)"
   ]
  },
  {
   "cell_type": "markdown",
   "metadata": {},
   "source": [
    "<b>Find the optimal number of clusters</b>"
   ]
  },
  {
   "cell_type": "code",
   "execution_count": 45,
   "metadata": {},
   "outputs": [
    {
     "data": {
      "image/png": "[encoded data removed]",
      "text/plain": [
       "<Figure size 432x288 with 1 Axes>"
      ]
     },
     "metadata": {},
     "output_type": "display_data"
    }
   ],
   "source": [
    "#Calulate Inertia\n",
    "# make a range\n",
    "ks = range(1, 15)\n",
    "\n",
    "inertias = [] # empty list\n",
    "\n",
    "# do a for loop\n",
    "for k in ks:\n",
    "    model =KMeans(n_clusters=k) \n",
    "    model.fit(df)    \n",
    "    # Append the inertia to the list of inertias\n",
    "    inertias.append(model.inertia_)\n",
    "    \n",
    "# Plot Range vs Inertias\n",
    "plt.plot(ks, inertias, '-o')\n",
    "plt.xlabel('number of clusters, k')\n",
    "plt.ylabel('Inertia')\n",
    "plt.title('Range vs Inertia')\n",
    "plt.xticks(ks)\n",
    "plt.show()"
   ]
  },
  {
   "cell_type": "code",
   "execution_count": 55,
   "metadata": {},
   "outputs": [
    {
     "name": "stdout",
     "output_type": "stream",
     "text": [
      "A2     2.815741\n",
      "A3     3.051459\n",
      "A4     2.971913\n",
      "A5     2.855379\n",
      "A6     2.214300\n",
      "A7     3.601852\n",
      "A8     2.438364\n",
      "A9     3.053634\n",
      "A10    1.715078\n",
      "dtype: float64\n"
     ]
    }
   ],
   "source": [
    "from statistics import stdev\n",
    "print (df.std())"
   ]
  },
  {
   "cell_type": "markdown",
   "metadata": {},
   "source": [
    "<b>Plot standard deviation values</b>"
   ]
  },
  {
   "cell_type": "code",
   "execution_count": 57,
   "metadata": {},
   "outputs": [
    {
     "data": {
      "image/png": "[encoded data removed]",
      "text/plain": [
       "<Figure size 720x360 with 9 Axes>"
      ]
     },
     "metadata": {},
     "output_type": "display_data"
    }
   ],
   "source": [
    "df.plot(kind='box',figsize=(10,5),subplots=True)\n",
    "plt.show()"
   ]
  },
  {
   "cell_type": "markdown",
   "metadata": {},
   "source": [
    "<b>Implement normalization</b>"
   ]
  },
  {
   "cell_type": "code",
   "execution_count": 60,
   "metadata": {},
   "outputs": [],
   "source": [
    "#Perform normalization\n",
    "from sklearn.pipeline import make_pipeline\n",
    "from sklearn.preprocessing import StandardScaler"
   ]
  },
  {
   "cell_type": "code",
   "execution_count": 63,
   "metadata": {},
   "outputs": [
    {
     "name": "stdout",
     "output_type": "stream",
     "text": [
      "[[-0.53059927 -0.62163609 -0.62335953 -0.53244915 -0.53656327 -0.61138714\n",
      "  -0.57009135 -0.54657241 -0.30647603]\n",
      " [ 0.96467674  1.61728901  1.52800355  1.22158268  1.36049678  0.98526266\n",
      "   1.39226519  1.49048593  0.05791975]\n",
      " [ 1.14390108  1.74469885  1.75662587  1.55451627  1.87444506  1.14523385\n",
      "   1.38733752  1.54313739  3.88190804]\n",
      " [ 0.92431852  0.48122053  0.57242108  0.55444642  0.33756717  1.24181879\n",
      "   0.59554669  0.35310822  0.03967321]]\n"
     ]
    }
   ],
   "source": [
    "scaler = StandardScaler()\n",
    "# Create KMeans instance: kmeans\n",
    "model = KMeans(n_clusters=4) # we are using 4 here because our dataset was created with 4 clusters initially. \n",
    "#In your real dataset use the best optimal number you have selected using Inertias.\n",
    "# Create pipeline: pipeline\n",
    "pipeline = make_pipeline(scaler,model)\n",
    "pipeline.fit(df)\n",
    "labels = pipeline.predict(df)\n",
    "centroids = model.cluster_centers_\n",
    "print(centroids)"
   ]
  },
  {
   "cell_type": "code",
   "execution_count": null,
   "metadata": {},
   "outputs": [],
   "source": []
  }
 ],
 "metadata": {
  "kernelspec": {
   "display_name": "Python 3",
   "language": "python",
   "name": "python3"
  },
  "language_info": {
   "codemirror_mode": {
    "name": "ipython",
    "version": 3
   },
   "file_extension": ".py",
   "mimetype": "text/x-python",
   "name": "python",
   "nbconvert_exporter": "python",
   "pygments_lexer": "ipython3",
   "version": "3.6.5"
  }
 },
 "nbformat": 4,
 "nbformat_minor": 2
}

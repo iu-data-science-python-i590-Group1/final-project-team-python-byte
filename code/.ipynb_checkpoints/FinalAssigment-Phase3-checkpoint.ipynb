{
 "cells": [
  {
   "cell_type": "markdown",
   "metadata": {},
   "source": [
    "<b>Phase 3 Assignment</b><br></br>\n",
    "<i>KMeans algorithm </i><br>\n",
    "<b>Dataset: </b>breast cancer data from the phase 1<br>"
   ]
  },
  {
   "cell_type": "code",
   "execution_count": 204,
   "metadata": {},
   "outputs": [],
   "source": [
    "#import all required libraries\n",
    "\n",
    "%matplotlib inline\n",
    "import pandas as pd\n",
    "import matplotlib.pylab as plt\n",
    "import numpy as np\n",
    "from sklearn.datasets import make_blobs\n",
    "from sklearn.cluster import KMeans\n",
    "from sklearn.pipeline import make_pipeline\n",
    "from sklearn.preprocessing import StandardScaler"
   ]
  },
  {
   "cell_type": "markdown",
   "metadata": {},
   "source": [
    "<b>Load and print head of dataset</b>"
   ]
  },
  {
   "cell_type": "code",
   "execution_count": 205,
   "metadata": {},
   "outputs": [
    {
     "name": "stdout",
     "output_type": "stream",
     "text": [
      "        Scn  A2  A3  A4  A5  A6  A7  A8  A9  A10  CLASS\n",
      "20  1054590   7   3   2  10   5  10   5   4    4      4\n",
      "21  1054593  10   5   5   3   6   7   7  10    1      4\n",
      "22  1056784   3   1   1   1   2   1   2   1    1      2\n",
      "23  1057013   8   4   5   1   2   ?   7   3    1      4\n",
      "24  1059552   1   1   1   1   2   1   3   1    1      2\n",
      "25  1065726   5   2   3   4   2   7   3   6    1      4\n",
      "26  1066373   3   2   1   1   1   1   2   1    1      2\n",
      "27  1066979   5   1   1   1   2   1   2   1    1      2\n",
      "28  1067444   2   1   1   1   2   1   2   1    1      2\n",
      "29  1070935   1   1   3   1   2   1   1   1    1      2\n",
      "        Scn  A2  A3  A4  A5  A6         A7  A8  A9  A10  CLASS\n",
      "20  1054590   7   3   2  10   5  10.000000   5   4    4      4\n",
      "21  1054593  10   5   5   3   6   7.000000   7  10    1      4\n",
      "22  1056784   3   1   1   1   2   1.000000   2   1    1      2\n",
      "23  1057013   8   4   5   1   2   3.544656   7   3    1      4\n",
      "24  1059552   1   1   1   1   2   1.000000   3   1    1      2\n",
      "25  1065726   5   2   3   4   2   7.000000   3   6    1      4\n",
      "26  1066373   3   2   1   1   1   1.000000   2   1    1      2\n",
      "27  1066979   5   1   1   1   2   1.000000   2   1    1      2\n",
      "28  1067444   2   1   1   1   2   1.000000   2   1    1      2\n",
      "29  1070935   1   1   3   1   2   1.000000   1   1    1      2\n"
     ]
    }
   ],
   "source": [
    "df = pd.read_csv('../data/BreastCancerWisconsin.csv') \n",
    "print(df[20:30])\n",
    "df['A7'] = df['A7'].replace('?', np.NaN)\n",
    "df['A7'] = pd.to_numeric(df['A7'])\n",
    "df = df.fillna(df.mean(skipna=True))\n",
    "print(df[20:30])"
   ]
  },
  {
   "cell_type": "markdown",
   "metadata": {},
   "source": [
    "<b>Get only A2-A10 colums from Dataset</b>"
   ]
  },
  {
   "cell_type": "code",
   "execution_count": 206,
   "metadata": {},
   "outputs": [
    {
     "name": "stdout",
     "output_type": "stream",
     "text": [
      "   A2  A3  A4  A5  A6    A7  A8  A9  A10\n",
      "0   5   1   1   1   2   1.0   3   1    1\n",
      "1   5   4   4   5   7  10.0   3   2    1\n",
      "2   3   1   1   1   2   2.0   3   1    1\n",
      "3   6   8   8   1   3   4.0   3   7    1\n",
      "4   4   1   1   3   2   1.0   3   1    1\n",
      "5   8  10  10   8   7  10.0   9   7    1\n",
      "6   1   1   1   1   2  10.0   3   1    1\n",
      "7   2   1   2   1   2   1.0   3   1    1\n",
      "8   2   1   1   1   2   1.0   1   1    5\n",
      "9   4   2   1   1   2   1.0   2   1    1\n"
     ]
    }
   ],
   "source": [
    "df_attributes = df.iloc[:, 1:10]\n",
    "print(df_attributes.head(10))"
   ]
  },
  {
   "cell_type": "markdown",
   "metadata": {},
   "source": [
    "<b>Create KMeans model for n_cluster = 2 and iteration of 500 and initial centroids of 20<br>\n",
    "Fit model to the data<br>\n",
    "Calculate centroids<br>"
   ]
  },
  {
   "cell_type": "code",
   "execution_count": 207,
   "metadata": {
    "scrolled": true
   },
   "outputs": [],
   "source": [
    "model = KMeans(n_clusters=2, n_init = 20, max_iter = 500)\n",
    "# fit kmeans object to data df\n",
    "model.fit(df_attributes)\n",
    "labels = model.predict(df_attributes)\n",
    "centroids = model.cluster_centers_"
   ]
  },
  {
   "cell_type": "markdown",
   "metadata": {},
   "source": [
    "<b> Below is the values for labels and the Frequency of each Value </b>"
   ]
  },
  {
   "cell_type": "code",
   "execution_count": 208,
   "metadata": {},
   "outputs": [
    {
     "name": "stdout",
     "output_type": "stream",
     "text": [
      "[0 1 0 1 0 1 0 0 0 0 0 0 0 0 1 0 0 0 1 0 1 1 0 0 0 0 0 0 0 0 0 0 1 0 0 0 1\n",
      " 0 1 1 1 1 1 1 1 0 1 0 0 1 0 0 1 1 1 1 1 0 1 0 1 0 1 0 0 0 0 1 1 0 0 1 0 1\n",
      " 1 0 0 0 0 0 0 0 0 0 1 1 1 1 0 0 0 0 0 0 0 0 0 0 1 1 1 0 0 0 1 0 1 1 0 1 0\n",
      " 1 1 1 0 0 0 1 0 0 0 0 1 1 1 0 1 0 1 0 0 0 1 0 0 0 0 0 0 0 0 0 1 0 0 0 1 0\n",
      " 0 1 0 1 1 0 0 1 0 0 0 1 1 0 0 0 0 0 1 1 0 0 0 0 0 1 1 1 0 1 0 1 0 0 0 1 1\n",
      " 0 1 1 1 0 1 1 0 0 0 0 1 0 0 0 1 1 0 0 0 1 1 0 0 0 1 1 0 1 1 1 0 0 1 0 0 1\n",
      " 0 1 1 0 1 1 0 1 1 1 0 1 0 0 1 1 1 1 0 0 0 0 0 0 1 1 0 0 0 1 1 1 1 1 0 0 0\n",
      " 1 1 1 1 1 1 0 1 1 1 0 1 0 1 0 0 0 0 0 0 1 0 0 1 1 1 1 1 0 1 1 0 0 1 1 0 1\n",
      " 1 0 0 1 1 0 1 0 1 1 0 0 1 0 0 0 1 0 0 1 1 1 0 1 1 0 0 1 0 0 1 0 1 1 1 0 0\n",
      " 1 1 0 1 0 0 1 1 0 0 0 1 0 0 0 0 1 0 0 1 1 0 0 0 1 1 1 1 1 0 0 0 0 1 1 0 0\n",
      " 0 0 0 0 0 0 0 0 0 0 0 1 0 0 0 0 1 0 0 0 0 1 0 0 0 0 0 0 0 0 1 0 0 0 0 0 0\n",
      " 0 0 0 0 0 1 0 1 0 1 0 0 0 0 1 0 0 0 1 0 1 0 0 0 0 0 0 1 1 1 0 0 0 1 0 0 0\n",
      " 0 0 0 0 0 1 0 0 0 1 0 0 1 1 0 0 0 0 0 0 0 1 1 1 0 0 0 0 0 0 0 0 0 0 0 1 0\n",
      " 0 1 1 0 0 0 1 1 0 0 1 0 1 0 0 0 0 0 0 0 0 0 0 0 0 1 0 0 0 0 0 0 0 1 1 0 0\n",
      " 0 1 0 0 1 1 0 0 0 0 0 0 1 0 0 0 0 0 0 0 0 0 0 0 0 0 0 0 1 0 0 1 0 0 0 0 0\n",
      " 0 0 0 0 0 0 0 0 0 0 1 0 0 1 1 1 1 0 0 1 0 0 0 0 0 0 1 1 0 0 0 1 0 1 0 1 1\n",
      " 1 0 1 0 0 0 0 0 0 0 0 1 1 1 0 0 1 0 1 1 1 0 0 0 0 0 0 0 0 0 0 0 0 0 1 0 0\n",
      " 0 0 0 0 1 0 0 1 0 0 0 0 0 0 0 0 0 0 0 1 0 0 0 0 0 0 0 0 0 1 0 0 0 0 0 0 0\n",
      " 0 0 1 1 1 0 0 0 0 0 0 0 0 0 1 1 0 0 0 0 0 0 0 0 0 1 0 0 0 0 1 1 1]\n"
     ]
    },
    {
     "data": {
      "text/plain": [
       "array([[  0, 466],\n",
       "       [  1, 233]], dtype=int64)"
      ]
     },
     "execution_count": 208,
     "metadata": {},
     "output_type": "execute_result"
    }
   ],
   "source": [
    "print(labels)\n",
    "value, count = np.unique(labels, return_counts=True)\n",
    "np.asarray((value, count)).T"
   ]
  },
  {
   "cell_type": "markdown",
   "metadata": {},
   "source": [
    "<b> Below is the values for Centroids </b>"
   ]
  },
  {
   "cell_type": "code",
   "execution_count": 209,
   "metadata": {},
   "outputs": [
    {
     "name": "stdout",
     "output_type": "stream",
     "text": [
      "[[3.0472103  1.30257511 1.44635193 1.34334764 2.08798283 1.38000113\n",
      "  2.10515021 1.26180258 1.10944206]\n",
      " [7.15879828 6.79828326 6.72961373 5.73390558 5.472103   7.87396553\n",
      "  6.10300429 6.07725322 2.54935622]]\n"
     ]
    }
   ],
   "source": [
    "print(centroids)"
   ]
  },
  {
   "cell_type": "markdown",
   "metadata": {},
   "source": [
    "<b> Shape of Centoids should be 2 x 9 </b>"
   ]
  },
  {
   "cell_type": "code",
   "execution_count": 210,
   "metadata": {},
   "outputs": [
    {
     "name": "stdout",
     "output_type": "stream",
     "text": [
      "(2, 9)\n"
     ]
    }
   ],
   "source": [
    "print(centroids.shape)"
   ]
  },
  {
   "cell_type": "markdown",
   "metadata": {},
   "source": [
    "<b> Part DataFrame </b>\n",
    "\n",
    "Create a new column in your dataframe and add Kmeans labels.\n",
    "Change labels values so that 0 becomes 2 and 1 becomes 4.\n",
    "Print the first 15 records from your dataframe"
   ]
  },
  {
   "cell_type": "code",
   "execution_count": 211,
   "metadata": {},
   "outputs": [
    {
     "name": "stdout",
     "output_type": "stream",
     "text": [
      "    A2  A3  A4  A5  A6    A7  A8  A9  A10  CLASS  labels\n",
      "0    5   1   1   1   2   1.0   3   1    1      2       2\n",
      "1    5   4   4   5   7  10.0   3   2    1      2       4\n",
      "2    3   1   1   1   2   2.0   3   1    1      2       2\n",
      "3    6   8   8   1   3   4.0   3   7    1      2       4\n",
      "4    4   1   1   3   2   1.0   3   1    1      2       2\n",
      "5    8  10  10   8   7  10.0   9   7    1      4       4\n",
      "6    1   1   1   1   2  10.0   3   1    1      2       2\n",
      "7    2   1   2   1   2   1.0   3   1    1      2       2\n",
      "8    2   1   1   1   2   1.0   1   1    5      2       2\n",
      "9    4   2   1   1   2   1.0   2   1    1      2       2\n",
      "10   1   1   1   1   1   1.0   3   1    1      2       2\n",
      "11   2   1   1   1   2   1.0   2   1    1      2       2\n",
      "12   5   3   3   3   2   3.0   4   4    1      4       2\n",
      "13   1   1   1   1   2   3.0   3   1    1      2       2\n",
      "14   8   7   5  10   7   9.0   5   5    4      4       4\n"
     ]
    }
   ],
   "source": [
    "#Add CLASS back to Dataframe and add Labels as a Column to the Dataframe\n",
    "df_attributes = df.iloc[:,1:11]\n",
    "df_attributes['labels'] = labels\n",
    "\n",
    "# Replace values of the labels field (0 to 2; 1 to 4)\n",
    "\n",
    "df_attributes['labels'] = df_attributes['labels'].map({0: 2, 1: 4})\n",
    "print(df_attributes.head(15))\n"
   ]
  },
  {
   "cell_type": "markdown",
   "metadata": {},
   "source": [
    "<b>Error Rate Function </b>\n",
    "Create Error Rate Function\n",
    "Print out all rates\n"
   ]
  },
  {
   "cell_type": "code",
   "execution_count": 212,
   "metadata": {},
   "outputs": [
    {
     "name": "stdout",
     "output_type": "stream",
     "text": [
      "Error Rate for Benign: 0.023605150214592276\n",
      "Error Rate for Malign: 0.0815450643776824\n",
      "Total Error Rate: 0.04291845493562232\n"
     ]
    }
   ],
   "source": [
    "def ErrorRate(label_values, class_values):\n",
    "\n",
    "    #Create a dataframe to hold our values\n",
    "    combine_df = pd.DataFrame()\n",
    "    combine_df['labels'] = label_values\n",
    "    combine_df['class_values'] = class_values\n",
    "\n",
    "    b = len(combine_df[(combine_df['labels'] == 4) & (combine_df['class_values'] == 2)])\n",
    "    class_2 = len(combine_df[(combine_df['labels'] == 2)])\n",
    "               \n",
    "    benign = b / class_2\n",
    "               \n",
    "    m = len(combine_df[(combine_df['labels'] == 2) & (combine_df['class_values'] == 4)])\n",
    "    class_4 = len(combine_df[(combine_df['labels'] == 4)])\n",
    "               \n",
    "    malign = m / class_4\n",
    "               \n",
    "               \n",
    "    t = len(combine_df[(combine_df['labels']) != (combine_df['class_values'])])\n",
    "    total_records = len(combine_df)\n",
    "    \n",
    "    total_error = t / total_records\n",
    "               \n",
    "    return benign, malign, total_error\n",
    "                         \n",
    "    \n",
    "#Create label values and class values to pass into function    \n",
    "label_values = df_attributes['labels']\n",
    "class_values = df_attributes['CLASS']\n",
    "\n",
    "benign, malign, total_error = ErrorRate(label_values, class_values)\n",
    "print(\"Error Rate for Benign:\", benign) \n",
    "print(\"Error Rate for Malign:\", malign)\n",
    "print(\"Total Error Rate:\", total_error)"
   ]
  },
  {
   "cell_type": "markdown",
   "metadata": {},
   "source": [
    "<b> Denisity Curve for \"CLASS\" and \"labels\" </b>"
   ]
  },
  {
   "cell_type": "code",
   "execution_count": 213,
   "metadata": {
    "scrolled": false
   },
   "outputs": [
    {
     "data": {
      "image/png": "[encoded data removed]",
      "text/plain": [
       "<Figure size 1080x576 with 1 Axes>"
      ]
     },
     "metadata": {
      "needs_background": "light"
     },
     "output_type": "display_data"
    }
   ],
   "source": [
    "from pandas.plotting import scatter_matrix\n",
    "df_curve=df_attributes.iloc[:, 9:11]\n",
    "\n",
    "ax = df_curve.plot.kde(figsize=(15,8))\n",
    "plt.title('Denisity Curve for \"CLASS\" and \"labels\"')\n",
    "plt.show()"
   ]
  },
  {
   "cell_type": "code",
   "execution_count": 214,
   "metadata": {},
   "outputs": [
    {
     "name": "stdout",
     "output_type": "stream",
     "text": [
      "A2        2.82\n",
      "A3        3.05\n",
      "A4        2.97\n",
      "A5        2.86\n",
      "A6        2.21\n",
      "A7        3.60\n",
      "A8        2.44\n",
      "A9        3.05\n",
      "A10       1.72\n",
      "CLASS     0.95\n",
      "labels    0.94\n",
      "dtype: float64\n"
     ]
    }
   ],
   "source": [
    "from statistics import stdev\n",
    "std_df=df_attributes.std()\n",
    "print (std_df.round(2))"
   ]
  },
  {
   "cell_type": "markdown",
   "metadata": {},
   "source": [
    "<b>Plot standard deviation values</b>"
   ]
  },
  {
   "cell_type": "code",
   "execution_count": 215,
   "metadata": {},
   "outputs": [
    {
     "data": {
      "image/png": "[encoded data removed]",
      "text/plain": [
       "<Figure size 1080x576 with 1 Axes>"
      ]
     },
     "metadata": {
      "needs_background": "light"
     },
     "output_type": "display_data"
    },
    {
     "data": {
      "image/png": "[encoded data removed]",
      "text/plain": [
       "<Figure size 1080x576 with 1 Axes>"
      ]
     },
     "metadata": {
      "needs_background": "light"
     },
     "output_type": "display_data"
    }
   ],
   "source": [
    "#Create a plot showing all standard deviation values\n",
    "plt.figure(figsize=(15,8))\n",
    "plt.plot(std_df,'bo')\n",
    "plt.title('Standard Deviation Plot of Values for each Variable')\n",
    "plt.xlabel('Data Variables')\n",
    "plt.ylabel('Standard Deviation Value')\n",
    "plt.show()\n",
    "\n",
    "#Create a box plot of the dataframe\n",
    "import seaborn as sns\n",
    "plt.figure(figsize=(15,8))\n",
    "ax=sns.boxplot(x=\"variable\", y=\"value\", data=pd.melt(df_attributes))\n",
    "plt.title('Box Plot of Data Frame for each Variable')\n",
    "plt.xlabel('Data Variables')\n",
    "plt.ylabel('Value')\n",
    "plt.show()"
   ]
  },
  {
   "cell_type": "markdown",
   "metadata": {},
   "source": [
    "<b>Data Variation Analysis:</b>\n",
    "\n",
    "The variables with the highest standard deviations are A7, A9, A3, and A4. This tells us that these variables have the greatest variance. This is also illustrated with the box plot."
   ]
  },
  {
   "cell_type": "markdown",
   "metadata": {},
   "source": [
    "<b>Report Statement:</b>\n",
    "\n",
    "The model we constructed resulted in small benign, malign, and total error rates. Additionally, when comparing the density curve of the two variables, “CLASS” and “Labels”, we find that they looked identical. Lastly, the two variables have very similar standard deviations and distributions, also shown by the box plot.  With this analysis we can determine that the model is accurate and results in a valid analysis. \n",
    "\n",
    "We would need to evaluate the level of acceptable accuracy. We might find that although the model accurate it does not meet the level of accuracy we need. We could understand its accuracy level by comparing the performance of other similar models. We might find a more accurate or acceptable model by changing model parameters or creating a different model. Data science experience and testing the model with data overtime would also help us understand its level of accuracy. However, practically speaking, the model would be acceptable. \n"
   ]
  }
 ],
 "metadata": {
  "kernelspec": {
   "display_name": "Python 3",
   "language": "python",
   "name": "python3"
  },
  "language_info": {
   "codemirror_mode": {
    "name": "ipython",
    "version": 3
   },
   "file_extension": ".py",
   "mimetype": "text/x-python",
   "name": "python",
   "nbconvert_exporter": "python",
   "pygments_lexer": "ipython3",
   "version": "3.7.0"
  }
 },
 "nbformat": 4,
 "nbformat_minor": 2
}

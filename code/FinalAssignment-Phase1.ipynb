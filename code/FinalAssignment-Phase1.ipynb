{
 "cells": [
  {
   "cell_type": "markdown",
   "metadata": {},
   "source": [
    "<b>Phase 1 Assignment</b>"
   ]
  },
  {
   "cell_type": "code",
   "execution_count": 21,
   "metadata": {},
   "outputs": [],
   "source": [
    "%matplotlib inline\n",
    "import pandas as pd\n",
    "import matplotlib.pylab as plt\n",
    "import numpy as np"
   ]
  },
  {
   "cell_type": "markdown",
   "metadata": {},
   "source": [
    "<b>Load and print head of dataset</b>"
   ]
  },
  {
   "cell_type": "code",
   "execution_count": 22,
   "metadata": {},
   "outputs": [
    {
     "name": "stdout",
     "output_type": "stream",
     "text": [
      "       Scn  A2  A3  A4  A5  A6  A7  A8  A9  A10  CLASS\n",
      "0  1000025   5   1   1   1   2   1   3   1    1      2\n",
      "1  1002945   5   4   4   5   7  10   3   2    1      2\n",
      "2  1015425   3   1   1   1   2   2   3   1    1      2\n",
      "3  1016277   6   8   8   1   3   4   3   7    1      2\n",
      "4  1017023   4   1   1   3   2   1   3   1    1      2\n"
     ]
    }
   ],
   "source": [
    "df = pd.read_csv('../data/BreastCancerWisconsin.csv') \n",
    "print(df.head())"
   ]
  },
  {
   "cell_type": "markdown",
   "metadata": {},
   "source": [
    "<b>Replace ? by NaN in column A7</b>"
   ]
  },
  {
   "cell_type": "code",
   "execution_count": 3,
   "metadata": {},
   "outputs": [
    {
     "name": "stdout",
     "output_type": "stream",
     "text": [
      "        Scn  A2  A3  A4  A5  A6   A7  A8  A9  A10  CLASS\n",
      "20  1054590   7   3   2  10   5   10   5   4    4      4\n",
      "21  1054593  10   5   5   3   6    7   7  10    1      4\n",
      "22  1056784   3   1   1   1   2    1   2   1    1      2\n",
      "23  1057013   8   4   5   1   2  NaN   7   3    1      4\n",
      "24  1059552   1   1   1   1   2    1   3   1    1      2\n",
      "25  1065726   5   2   3   4   2    7   3   6    1      4\n",
      "26  1066373   3   2   1   1   1    1   2   1    1      2\n",
      "27  1066979   5   1   1   1   2    1   2   1    1      2\n",
      "28  1067444   2   1   1   1   2    1   2   1    1      2\n",
      "29  1070935   1   1   3   1   2    1   1   1    1      2\n"
     ]
    }
   ],
   "source": [
    "df['A7'] = df['A7'].replace('?', np.NaN)\n",
    "print(df[20:30])"
   ]
  },
  {
   "cell_type": "markdown",
   "metadata": {},
   "source": [
    "<b>Check datatype of columns</b>"
   ]
  },
  {
   "cell_type": "code",
   "execution_count": 5,
   "metadata": {},
   "outputs": [
    {
     "name": "stdout",
     "output_type": "stream",
     "text": [
      "Scn       int64\n",
      "A2        int64\n",
      "A3        int64\n",
      "A4        int64\n",
      "A5        int64\n",
      "A6        int64\n",
      "A7       object\n",
      "A8        int64\n",
      "A9        int64\n",
      "A10       int64\n",
      "CLASS     int64\n",
      "dtype: object\n"
     ]
    }
   ],
   "source": [
    "print(df.dtypes)"
   ]
  },
  {
   "cell_type": "markdown",
   "metadata": {},
   "source": [
    "<b>Converted back to numeric</b>"
   ]
  },
  {
   "cell_type": "code",
   "execution_count": 6,
   "metadata": {},
   "outputs": [
    {
     "name": "stdout",
     "output_type": "stream",
     "text": [
      "        Scn  A2  A3  A4  A5  A6    A7  A8  A9  A10  CLASS\n",
      "20  1054590   7   3   2  10   5  10.0   5   4    4      4\n",
      "21  1054593  10   5   5   3   6   7.0   7  10    1      4\n",
      "22  1056784   3   1   1   1   2   1.0   2   1    1      2\n",
      "23  1057013   8   4   5   1   2   NaN   7   3    1      4\n",
      "24  1059552   1   1   1   1   2   1.0   3   1    1      2\n",
      "25  1065726   5   2   3   4   2   7.0   3   6    1      4\n",
      "26  1066373   3   2   1   1   1   1.0   2   1    1      2\n",
      "27  1066979   5   1   1   1   2   1.0   2   1    1      2\n",
      "28  1067444   2   1   1   1   2   1.0   2   1    1      2\n",
      "29  1070935   1   1   3   1   2   1.0   1   1    1      2\n"
     ]
    }
   ],
   "source": [
    "df['A7'] = pd.to_numeric(df['A7'])\n",
    "print(df[20:30])"
   ]
  },
  {
   "cell_type": "markdown",
   "metadata": {},
   "source": [
    "<b>Check datatype of columns</b>"
   ]
  },
  {
   "cell_type": "code",
   "execution_count": 8,
   "metadata": {},
   "outputs": [
    {
     "name": "stdout",
     "output_type": "stream",
     "text": [
      "Scn        int64\n",
      "A2         int64\n",
      "A3         int64\n",
      "A4         int64\n",
      "A5         int64\n",
      "A6         int64\n",
      "A7       float64\n",
      "A8         int64\n",
      "A9         int64\n",
      "A10        int64\n",
      "CLASS      int64\n",
      "dtype: object\n"
     ]
    }
   ],
   "source": [
    "print(df.dtypes)"
   ]
  },
  {
   "cell_type": "markdown",
   "metadata": {},
   "source": [
    "<b>Check Null Values and Total Count</b>"
   ]
  },
  {
   "cell_type": "code",
   "execution_count": 9,
   "metadata": {},
   "outputs": [
    {
     "name": "stdout",
     "output_type": "stream",
     "text": [
      "16\n"
     ]
    }
   ],
   "source": [
    "print(pd.isnull(df['A7']).sum())"
   ]
  },
  {
   "cell_type": "markdown",
   "metadata": {},
   "source": [
    "<b>Replace NaN values with the mean of column A7</b>"
   ]
  },
  {
   "cell_type": "code",
   "execution_count": 10,
   "metadata": {},
   "outputs": [
    {
     "name": "stdout",
     "output_type": "stream",
     "text": [
      "        Scn  A2  A3  A4  A5  A6         A7  A8  A9  A10  CLASS\n",
      "20  1054590   7   3   2  10   5  10.000000   5   4    4      4\n",
      "21  1054593  10   5   5   3   6   7.000000   7  10    1      4\n",
      "22  1056784   3   1   1   1   2   1.000000   2   1    1      2\n",
      "23  1057013   8   4   5   1   2   3.544656   7   3    1      4\n",
      "24  1059552   1   1   1   1   2   1.000000   3   1    1      2\n",
      "25  1065726   5   2   3   4   2   7.000000   3   6    1      4\n",
      "26  1066373   3   2   1   1   1   1.000000   2   1    1      2\n",
      "27  1066979   5   1   1   1   2   1.000000   2   1    1      2\n",
      "28  1067444   2   1   1   1   2   1.000000   2   1    1      2\n",
      "29  1070935   1   1   3   1   2   1.000000   1   1    1      2\n"
     ]
    }
   ],
   "source": [
    "df = df.fillna(df.mean(skipna=True))\n",
    "print(df[20:30])"
   ]
  },
  {
   "cell_type": "markdown",
   "metadata": {},
   "source": [
    "<b>Provide the summary statistics</b>"
   ]
  },
  {
   "cell_type": "code",
   "execution_count": 23,
   "metadata": {},
   "outputs": [
    {
     "name": "stdout",
     "output_type": "stream",
     "text": [
      "               Scn      A2      A3      A4      A5      A6      A8      A9  \\\n",
      "count       699.00  699.00  699.00  699.00  699.00  699.00  699.00  699.00   \n",
      "mean    1071704.10    4.42    3.13    3.21    2.81    3.22    3.44    2.87   \n",
      "std      617095.73    2.82    3.05    2.97    2.86    2.21    2.44    3.05   \n",
      "min       61634.00    1.00    1.00    1.00    1.00    1.00    1.00    1.00   \n",
      "25%      870688.50    2.00    1.00    1.00    1.00    2.00    2.00    1.00   \n",
      "50%     1171710.00    4.00    1.00    1.00    1.00    2.00    3.00    1.00   \n",
      "75%     1238298.00    6.00    5.00    5.00    4.00    4.00    5.00    4.00   \n",
      "max    13454352.00   10.00   10.00   10.00   10.00   10.00   10.00   10.00   \n",
      "\n",
      "          A10   CLASS  \n",
      "count  699.00  699.00  \n",
      "mean     1.59    2.69  \n",
      "std      1.72    0.95  \n",
      "min      1.00    2.00  \n",
      "25%      1.00    2.00  \n",
      "50%      1.00    2.00  \n",
      "75%      1.00    4.00  \n",
      "max     10.00    4.00  \n"
     ]
    }
   ],
   "source": [
    "descdf=df.describe()\n",
    "print(descdf.round(2))"
   ]
  },
  {
   "cell_type": "markdown",
   "metadata": {},
   "source": [
    "<b>Find number of columns and number of rows</b>"
   ]
  },
  {
   "cell_type": "code",
   "execution_count": 12,
   "metadata": {},
   "outputs": [
    {
     "name": "stdout",
     "output_type": "stream",
     "text": [
      "Rows:: 699\n",
      "Columns:: 11\n"
     ]
    }
   ],
   "source": [
    "rows, columns = df.shape\n",
    "print('Rows:: '+ str(rows) + '\\nColumns:: ' + str(columns))"
   ]
  },
  {
   "cell_type": "markdown",
   "metadata": {},
   "source": [
    "<b>Report how many unique id values (column Scn)</b>"
   ]
  },
  {
   "cell_type": "code",
   "execution_count": 14,
   "metadata": {},
   "outputs": [
    {
     "name": "stdout",
     "output_type": "stream",
     "text": [
      "645\n"
     ]
    }
   ],
   "source": [
    "print(len(df['Scn'].unique()))"
   ]
  },
  {
   "cell_type": "markdown",
   "metadata": {},
   "source": [
    "<b>Draw histograms for columns A2-A10</b>"
   ]
  },
  {
   "cell_type": "code",
   "execution_count": 24,
   "metadata": {},
   "outputs": [
    {
     "data": {
      "image/png": "[encoded data removed]",
      "text/plain": [
       "<Figure size 720x1080 with 9 Axes>"
      ]
     },
     "metadata": {},
     "output_type": "display_data"
    }
   ],
   "source": [
    "#df.iloc[:, 1:10].plot(kind='hist',bins=9,figsize=(12,6))\n",
    "df.iloc[:,1:10].hist(bins=10,grid=False,figsize=(10,15),edgecolor='black',linewidth=1.25)\n",
    "plt.tight_layout(rect=(0, 0, 1.2, 1.2)) "
   ]
  },
  {
   "cell_type": "markdown",
   "metadata": {},
   "source": [
    "<b>Create a count based on groupby</b>"
   ]
  },
  {
   "cell_type": "code",
   "execution_count": 17,
   "metadata": {},
   "outputs": [
    {
     "name": "stdout",
     "output_type": "stream",
     "text": [
      "Benign::458\n",
      "Malignant::241\n"
     ]
    }
   ],
   "source": [
    "benign, malignant = pd.value_counts(df['CLASS'])\n",
    "print( 'Benign::'+ str(benign) +'\\nMalignant::'+str(malignant))"
   ]
  },
  {
   "cell_type": "markdown",
   "metadata": {},
   "source": [
    "<b>Make a bar plot for CLASS</b>"
   ]
  },
  {
   "cell_type": "code",
   "execution_count": 25,
   "metadata": {},
   "outputs": [
    {
     "data": {
      "text/plain": [
       "Text(0,0.5,'Number of each Instance')"
      ]
     },
     "execution_count": 25,
     "metadata": {},
     "output_type": "execute_result"
    },
    {
     "data": {
      "image/png": "[encoded data removed]",
      "text/plain": [
       "<Figure size 432x288 with 1 Axes>"
      ]
     },
     "metadata": {},
     "output_type": "display_data"
    }
   ],
   "source": [
    "#ax = pd.value_counts(df['CLASS']).plot(kind='bar', title=\"Benign and Malignant in CLASS\")\n",
    "#ax.set_xlabel(\"Class\")\n",
    "#ax.set_ylabel(\"Counts of benign and malignant values\")\n",
    "ax = pd.value_counts(df['CLASS'].map({2:'Benign', 4:'Malignant'})).plot(kind='bar', title=\"The Number of Benign and Malignant Cancer Instances\",color=['g','r'])\n",
    "ax.set_xlabel(\"Type of Cancer Instance\")\n",
    "ax.set_ylabel(\"Number of each Instance\")"
   ]
  },
  {
   "cell_type": "markdown",
   "metadata": {},
   "source": [
    "<b>Scatter chart for Clump Thickness and Normal Nuclei</b>"
   ]
  },
  {
   "cell_type": "code",
   "execution_count": 26,
   "metadata": {},
   "outputs": [
    {
     "data": {
      "text/plain": [
       "Text(0,0.5,'Normal Nuclei')"
      ]
     },
     "execution_count": 26,
     "metadata": {},
     "output_type": "execute_result"
    },
    {
     "data": {
      "image/png": "[encoded data removed]",
      "text/plain": [
       "<Figure size 432x288 with 1 Axes>"
      ]
     },
     "metadata": {},
     "output_type": "display_data"
    }
   ],
   "source": [
    "#ax =df.plot(kind='scatter', x='A2', y='A9', title=\"Scatter chart for Clump Thickness and Normal Nuclei\")\n",
    "ax =df.plot(kind='scatter', x='A2', y='A9', c=['red','blue'],alpha=.25, title=\"Scatter plot of Clump Thickness and Normal Nuclei\")\n",
    "ax.set_xlabel(\"Clump Thickness\")\n",
    "ax.set_ylabel(\"Normal Nuclei\")"
   ]
  },
  {
   "cell_type": "markdown",
   "metadata": {},
   "source": [
    "<b>Graph a box plot to visualize the shape of the distribution, its central value, and its variability</b>"
   ]
  },
  {
   "cell_type": "code",
   "execution_count": 27,
   "metadata": {},
   "outputs": [
    {
     "data": {
      "image/png": "[encoded data removed]",
      "text/plain": [
       "<Figure size 720x360 with 8 Axes>"
      ]
     },
     "metadata": {},
     "output_type": "display_data"
    }
   ],
   "source": [
    "df.iloc[:, 1:10].plot(kind='box',figsize=(10,5),subplots=True)\n",
    "plt.tight_layout(rect=(0, 0, 1.2, 1.2))\n",
    "plt.show()"
   ]
  },
  {
   "cell_type": "markdown",
   "metadata": {},
   "source": [
    "<b>Summarize - Find the correlation for all variables</b>"
   ]
  },
  {
   "cell_type": "code",
   "execution_count": 28,
   "metadata": {},
   "outputs": [
    {
     "name": "stdout",
     "output_type": "stream",
     "text": [
      "         A2    A3    A4    A5    A6    A7    A8    A9   A10  CLASS\n",
      "A2     1.00  0.15  0.10  0.12  0.17  0.14  0.18  0.18  0.22   0.30\n",
      "A3     0.15  1.00  0.59  0.43  0.52  0.32  0.35  0.51  0.37   0.64\n",
      "A4     0.10  0.59  1.00  0.43  0.42  0.36  0.42  0.51  0.29   0.62\n",
      "A5     0.12  0.43  0.43  1.00  0.44  0.21  0.38  0.43  0.33   0.53\n",
      "A6     0.17  0.52  0.42  0.44  1.00  0.32  0.48  0.59  0.43   0.69\n",
      "A7     0.14  0.32  0.36  0.21  0.32  1.00  0.24  0.37  0.19   0.42\n",
      "A8     0.18  0.35  0.42  0.38  0.48  0.24  1.00  0.46  0.31   0.58\n",
      "A9     0.18  0.51  0.51  0.43  0.59  0.37  0.46  1.00  0.46   0.71\n",
      "A10    0.22  0.37  0.29  0.33  0.43  0.19  0.31  0.46  1.00   0.49\n",
      "CLASS  0.30  0.64  0.62  0.53  0.69  0.42  0.58  0.71  0.49   1.00\n"
     ]
    }
   ],
   "source": [
    "cordf=df.iloc[:, 1:11].apply(lambda x: x.factorize()[0]).corr()\n",
    "print(cordf.round(2))"
   ]
  },
  {
   "cell_type": "markdown",
   "metadata": {},
   "source": [
    "<b>Summarize - Find the standard deviation for all variables</b>"
   ]
  },
  {
   "cell_type": "code",
   "execution_count": 30,
   "metadata": {},
   "outputs": [
    {
     "name": "stdout",
     "output_type": "stream",
     "text": [
      "A2     2.81\n",
      "A3     3.05\n",
      "A4     2.97\n",
      "A5     2.85\n",
      "A6     2.21\n",
      "A8     2.44\n",
      "A9     3.05\n",
      "A10    1.71\n",
      "dtype: float64\n"
     ]
    }
   ],
   "source": [
    "std_df=np.std(df.iloc[:, 1:10])\n",
    "print(std_df.round(2))"
   ]
  },
  {
   "cell_type": "markdown",
   "metadata": {},
   "source": [
    "<b>Summarize - Find the variance for all variables </b>"
   ]
  },
  {
   "cell_type": "code",
   "execution_count": 31,
   "metadata": {},
   "outputs": [
    {
     "name": "stdout",
     "output_type": "stream",
     "text": [
      "A2     7.92\n",
      "A3     9.30\n",
      "A4     8.82\n",
      "A5     8.14\n",
      "A6     4.90\n",
      "A8     5.94\n",
      "A9     9.31\n",
      "A10    2.94\n",
      "dtype: float64\n"
     ]
    }
   ],
   "source": [
    "var_df=np.var(df.iloc[:, 1:10])\n",
    "print(var_df.round(2))"
   ]
  },
  {
   "cell_type": "markdown",
   "metadata": {},
   "source": [
    "<b>Summarize - Find the mode for all variables</b>"
   ]
  },
  {
   "cell_type": "code",
   "execution_count": 32,
   "metadata": {},
   "outputs": [
    {
     "name": "stdout",
     "output_type": "stream",
     "text": [
      "      A2  A3  A4  A5  A6 A7  A8  A9  A10  CLASS\n",
      "mode   1   1   1   1   2  1   2   1    1      2\n"
     ]
    }
   ],
   "source": [
    "modedf=df.iloc[:, 1:11].mode()\n",
    "modedf.rename(index={0:'mode'}, inplace=True)\n",
    "print(modedf)"
   ]
  },
  {
   "cell_type": "markdown",
   "metadata": {},
   "source": [
    "<b>Final Summarization of Data: </b> All variables from A2 to A10 have a descrete ordinal property. The variable Class has a discrete dichotomos property. This affects their descriptive statistics. With descrete variables, statistics that describe frequency are most meaningful. There appears to be a large variance between most of the variables. This is probably because of their descrete properties. Most variables would probably need standardization. Variable A6 might be the only variable that might not need standardization."
   ]
  },
  {
   "cell_type": "code",
   "execution_count": null,
   "metadata": {},
   "outputs": [],
   "source": []
  }
 ],
 "metadata": {
  "kernelspec": {
   "display_name": "Python 3",
   "language": "python",
   "name": "python3"
  },
  "language_info": {
   "codemirror_mode": {
    "name": "ipython",
    "version": 3
   },
   "file_extension": ".py",
   "mimetype": "text/x-python",
   "name": "python",
   "nbconvert_exporter": "python",
   "pygments_lexer": "ipython3",
   "version": "3.6.5"
  }
 },
 "nbformat": 4,
 "nbformat_minor": 2
}

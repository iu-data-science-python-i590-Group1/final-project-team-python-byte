{
 "cells": [
  {
   "cell_type": "code",
   "execution_count": 46,
   "metadata": {},
   "outputs": [
    {
     "name": "stdout",
     "output_type": "stream",
     "text": [
      "\n",
      "------------------- Load and print head of dataset-------------\n",
      "\n",
      "       Scn  A2  A3  A4  A5  A6  A7  A8  A9  A10  CLASS\n",
      "0  1000025   5   1   1   1   2   1   3   1    1      2\n",
      "1  1002945   5   4   4   5   7  10   3   2    1      2\n",
      "2  1015425   3   1   1   1   2   2   3   1    1      2\n",
      "3  1016277   6   8   8   1   3   4   3   7    1      2\n",
      "4  1017023   4   1   1   3   2   1   3   1    1      2\n",
      "\n",
      "------------------- Replace ? by NaN in column A7-------------\n",
      "\n",
      "        Scn  A2  A3  A4  A5  A6   A7  A8  A9  A10  CLASS\n",
      "20  1054590   7   3   2  10   5   10   5   4    4      4\n",
      "21  1054593  10   5   5   3   6    7   7  10    1      4\n",
      "22  1056784   3   1   1   1   2    1   2   1    1      2\n",
      "23  1057013   8   4   5   1   2  NaN   7   3    1      4\n",
      "24  1059552   1   1   1   1   2    1   3   1    1      2\n",
      "25  1065726   5   2   3   4   2    7   3   6    1      4\n",
      "26  1066373   3   2   1   1   1    1   2   1    1      2\n",
      "27  1066979   5   1   1   1   2    1   2   1    1      2\n",
      "28  1067444   2   1   1   1   2    1   2   1    1      2\n",
      "29  1070935   1   1   3   1   2    1   1   1    1      2\n",
      "\n",
      "------------------- Check datatype of columns-------------\n",
      "\n",
      "Scn       int64\n",
      "A2        int64\n",
      "A3        int64\n",
      "A4        int64\n",
      "A5        int64\n",
      "A6        int64\n",
      "A7       object\n",
      "A8        int64\n",
      "A9        int64\n",
      "A10       int64\n",
      "CLASS     int64\n",
      "dtype: object\n",
      "\n",
      "------------------- converted back to numeric-------------\n",
      "\n",
      "        Scn  A2  A3  A4  A5  A6    A7  A8  A9  A10  CLASS\n",
      "20  1054590   7   3   2  10   5  10.0   5   4    4      4\n",
      "21  1054593  10   5   5   3   6   7.0   7  10    1      4\n",
      "22  1056784   3   1   1   1   2   1.0   2   1    1      2\n",
      "23  1057013   8   4   5   1   2   NaN   7   3    1      4\n",
      "24  1059552   1   1   1   1   2   1.0   3   1    1      2\n",
      "25  1065726   5   2   3   4   2   7.0   3   6    1      4\n",
      "26  1066373   3   2   1   1   1   1.0   2   1    1      2\n",
      "27  1066979   5   1   1   1   2   1.0   2   1    1      2\n",
      "28  1067444   2   1   1   1   2   1.0   2   1    1      2\n",
      "29  1070935   1   1   3   1   2   1.0   1   1    1      2\n",
      "\n",
      "------------------- Check datatype of columns-------------\n",
      "\n",
      "Scn        int64\n",
      "A2         int64\n",
      "A3         int64\n",
      "A4         int64\n",
      "A5         int64\n",
      "A6         int64\n",
      "A7       float64\n",
      "A8         int64\n",
      "A9         int64\n",
      "A10        int64\n",
      "CLASS      int64\n",
      "dtype: object\n",
      "\n",
      "-------------------Check Null Values and Total Count-------------\n",
      "\n",
      "16\n",
      "\n",
      "-------------------Replace NaN values with the mean of column A7-------------\n",
      "\n",
      "        Scn  A2  A3  A4  A5  A6         A7  A8  A9  A10  CLASS\n",
      "20  1054590   7   3   2  10   5  10.000000   5   4    4      4\n",
      "21  1054593  10   5   5   3   6   7.000000   7  10    1      4\n",
      "22  1056784   3   1   1   1   2   1.000000   2   1    1      2\n",
      "23  1057013   8   4   5   1   2   3.544656   7   3    1      4\n",
      "24  1059552   1   1   1   1   2   1.000000   3   1    1      2\n",
      "25  1065726   5   2   3   4   2   7.000000   3   6    1      4\n",
      "26  1066373   3   2   1   1   1   1.000000   2   1    1      2\n",
      "27  1066979   5   1   1   1   2   1.000000   2   1    1      2\n",
      "28  1067444   2   1   1   1   2   1.000000   2   1    1      2\n",
      "29  1070935   1   1   3   1   2   1.000000   1   1    1      2\n",
      "\n",
      "-------------------Provide the summary statistics-------------\n",
      "\n",
      "                Scn          A2          A3          A4          A5  \\\n",
      "count  6.990000e+02  699.000000  699.000000  699.000000  699.000000   \n",
      "mean   1.071704e+06    4.417740    3.134478    3.207439    2.806867   \n",
      "std    6.170957e+05    2.815741    3.051459    2.971913    2.855379   \n",
      "min    6.163400e+04    1.000000    1.000000    1.000000    1.000000   \n",
      "25%    8.706885e+05    2.000000    1.000000    1.000000    1.000000   \n",
      "50%    1.171710e+06    4.000000    1.000000    1.000000    1.000000   \n",
      "75%    1.238298e+06    6.000000    5.000000    5.000000    4.000000   \n",
      "max    1.345435e+07   10.000000   10.000000   10.000000   10.000000   \n",
      "\n",
      "               A6          A7          A8          A9         A10       CLASS  \n",
      "count  699.000000  699.000000  699.000000  699.000000  699.000000  699.000000  \n",
      "mean     3.216023    3.544656    3.437768    2.866953    1.589413    2.689557  \n",
      "std      2.214300    3.601852    2.438364    3.053634    1.715078    0.951273  \n",
      "min      1.000000    1.000000    1.000000    1.000000    1.000000    2.000000  \n",
      "25%      2.000000    1.000000    2.000000    1.000000    1.000000    2.000000  \n",
      "50%      2.000000    1.000000    3.000000    1.000000    1.000000    2.000000  \n",
      "75%      4.000000    5.000000    5.000000    4.000000    1.000000    4.000000  \n",
      "max     10.000000   10.000000   10.000000   10.000000   10.000000    4.000000  \n",
      "\n",
      "-------------------Find number of columns and number of rows-------------\n",
      "\n",
      "Rows:: 699\n",
      "Columns:: 11\n",
      "\n",
      "-------------------Report how many unique id values (column Scn)-------------\n",
      "\n",
      "645\n",
      "\n",
      "--------------------Draw histograms for columns A2-A10--------------------\n",
      "\n"
     ]
    },
    {
     "data": {
      "image/png": "[encoded data removed]",
      "text/plain": [
       "<Figure size 864x432 with 1 Axes>"
      ]
     },
     "metadata": {},
     "output_type": "display_data"
    }
   ],
   "source": [
    "%matplotlib inline\n",
    "import pandas as pd\n",
    "import matplotlib.pylab as plt\n",
    "import numpy as np\n",
    "from sklearn.datasets import make_blobs\n",
    "from sklearn.cluster import KMeans\n",
    "from sklearn.pipeline import make_pipeline\n",
    "from sklearn.preprocessing import StandardScaler\n",
    "\n",
    "data = pd.read_csv('BreastCancerWisconsin.csv') \n",
    "print('\\n------------------- Load and print head of dataset-------------\\n')\n",
    "df = pd.read_csv('BreastCancerWisconsin.csv') \n",
    "print(df.head())\n",
    "print('\\n------------------- Replace ? by NaN in column A7-------------\\n')\n",
    "df['A7'] = df['A7'].replace('?', np.NaN)\n",
    "print(df[20:30])\n",
    "print('\\n------------------- Check datatype of columns-------------\\n')\n",
    "print(df.dtypes)\n",
    "print('\\n------------------- converted back to numeric-------------\\n')\n",
    "df['A7'] = pd.to_numeric(df['A7'])\n",
    "print(df[20:30])\n",
    "\n",
    "print('\\n------------------- Check datatype of columns-------------\\n')\n",
    "print(df.dtypes)\n",
    "\n",
    "print('\\n-------------------Check Null Values and Total Count-------------\\n')\n",
    "# Check for null values\\n\",\n",
    "print(pd.isnull(df['A7']).sum())\n",
    "\n",
    "print('\\n-------------------Replace NaN values with the mean of column A7-------------\\n')\n",
    "df = df.fillna(df.mean(skipna=True))\n",
    "print(df[20:30])\n",
    "\n",
    "print('\\n-------------------Provide the summary statistics-------------\\n')\n",
    "print(df.describe())\n",
    "\n",
    "print('\\n-------------------Find number of columns and number of rows-------------\\n')\n",
    "rows, columns = df.shape\n",
    "print('Rows:: '+ str(rows) + '\\nColumns:: ' + str(columns))\n",
    "\n",
    "print('\\n-------------------Report how many unique id values (column Scn)-------------\\n')\n",
    "print(len(df['Scn'].unique()))\n",
    "\n",
    "print('\\n--------------------Draw histograms for columns A2-A10--------------------\\n')\n",
    "\n",
    "# histogram of colums A2-A7\\n\",\n",
    "#df[['A2', 'A3', 'A4', 'A5', 'A6', 'A7', 'A8', 'A9', 'A10']].plot(kind='hist',bins=9,figsize=(12,6))\n",
    "\n",
    "\n",
    "df.iloc[:, 1:10].plot(kind='hist',bins=9,figsize=(12,6))\n",
    "plt.tight_layout(rect=(0, 0, 1.2, 1.2)) \n",
    "\n"
   ]
  },
  {
   "cell_type": "code",
   "execution_count": 58,
   "metadata": {},
   "outputs": [
    {
     "name": "stdout",
     "output_type": "stream",
     "text": [
      "\n",
      "-------------------create a count based on groupby -------------\n",
      "\n",
      "Benign::458\n",
      "Malignant::241\n"
     ]
    },
    {
     "data": {
      "text/plain": [
       "Text(0,0.5,'counts of benign and malignant values')"
      ]
     },
     "execution_count": 58,
     "metadata": {},
     "output_type": "execute_result"
    },
    {
     "data": {
      "image/png": "[encoded data removed]",
      "text/plain": [
       "<Figure size 432x288 with 1 Axes>"
      ]
     },
     "metadata": {},
     "output_type": "display_data"
    }
   ],
   "source": [
    "print('\\n-------------------create a count based on groupby -------------\\n')\n",
    "benign, malignant = pd.value_counts(df['CLASS'])\n",
    "print( 'Benign::'+ str(benign) +'\\nMalignant::'+str(malignant))\n",
    "\n",
    "f1 = benign # if you load from dataframe use data['columnname1'].values\n",
    "f2 = malignant # # if you load from dataframe use data['columnname2'].values\n",
    "#Make a scater plot with two features\n",
    "\n",
    "ax = pd.value_counts(df['CLASS']).plot(kind='bar', title=\"Benign and Malignant in CLASS\")\n",
    "ax.set_xlabel(\"Class\")\n",
    "ax.set_ylabel(\"Counts of benign and malignant values\")"
   ]
  },
  {
   "cell_type": "code",
   "execution_count": 66,
   "metadata": {},
   "outputs": [
    {
     "data": {
      "text/plain": [
       "Text(0,0.5,'Normal Nuclei')"
      ]
     },
     "execution_count": 66,
     "metadata": {},
     "output_type": "execute_result"
    },
    {
     "data": {
      "image/png": "[encoded data removed]",
      "text/plain": [
       "<Figure size 432x288 with 1 Axes>"
      ]
     },
     "metadata": {},
     "output_type": "display_data"
    }
   ],
   "source": [
    "ax =df.plot(kind='scatter', x='A2', y='A9', title=\"Scatter chart for Clump Thickness and Normal Nuclei\")\n",
    "ax.set_xlabel(\"Clump Thickness\")\n",
    "ax.set_ylabel(\"Normal Nuclei\")"
   ]
  },
  {
   "cell_type": "code",
   "execution_count": null,
   "metadata": {},
   "outputs": [],
   "source": []
  }
 ],
 "metadata": {
  "kernelspec": {
   "display_name": "Python 3",
   "language": "python",
   "name": "python3"
  },
  "language_info": {
   "codemirror_mode": {
    "name": "ipython",
    "version": 3
   },
   "file_extension": ".py",
   "mimetype": "text/x-python",
   "name": "python",
   "nbconvert_exporter": "python",
   "pygments_lexer": "ipython3",
   "version": "3.6.5"
  }
 },
 "nbformat": 4,
 "nbformat_minor": 2
}
